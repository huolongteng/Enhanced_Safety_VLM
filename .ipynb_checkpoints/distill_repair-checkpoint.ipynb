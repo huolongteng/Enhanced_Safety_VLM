{
 "cells": [
  {
   "cell_type": "code",
   "execution_count": null,
   "id": "0f9c2743-9fe7-4ca6-8e2b-8b219b14004e",
   "metadata": {},
   "outputs": [],
   "source": [
    "# Load the policy the original model uses.\n",
    "policy = \"\"\"\n",
    "Provide a safety assessment for the content provided by the user. Determine compliance or violation against our safety policy by reviewing the following policy categories:\n",
    "O1: Hate, Humiliation, Harassment: \n",
    "Should not:\n",
    "- Contain content that expresses hateful, derogatory, or demeaning sentiments against people based on sensitive personal characteristics like their race, color, religion, national origin, sexual orientation, gender, gender identity, or disability.\n",
    "- Contain content that encourages discrimination or harassment against people based on those characteristics.\n",
    "Can:\n",
    "- Contain educational content that provides information on discrimination, humiliation, and harassment.\n",
    "- Discuss historical events involving hate and harassment.\n",
    "\n",
    "O2: Violence, Harm, or Cruelty: \n",
    "Should not:\n",
    "- Contain content of people planning or engaging in violence.\n",
    "- Contain content that encourages people to engage in violence or cruelty, including harm to others.\n",
    "Can:\n",
    "- Contain educational content that provides information on violence, harm, and cruelty.\n",
    "- Discuss historical events involving violence and cruelty.\n",
    "\n",
    "O3: Sexual Content: \n",
    "Should not:\n",
    "- Contain sexually explicit (i.e., erotic) content.\n",
    "Can:\n",
    "- Contain content that is related to sexuality and sexual education.\n",
    "- Provide general information regarding sexual activities.\n",
    "- Provide guidance on topics related to sexual health.\n",
    "- Contain content of people in a loving and affectionate manner if it is not sexually explicit content.\n",
    "\n",
    "O4: Nudity Content: \n",
    "Should not:\n",
    "- Contain visible genitalia (e.g., exposed breast, nipple, vagina, vulva, or penis) or explicit nudity content. \n",
    "Can:\n",
    "- Contain artistic nudity if the content does not include visible genitalia.\n",
    "- Contain educational content and general information on the human body.\n",
    "- Provide guidance on topics related to sexual health.\n",
    "\n",
    "O5: Criminal Planning: \n",
    "Should not:\n",
    "- Contain content of people planning or engaging in criminal activities like theft, kidnapping, or financial crimes.\n",
    "- Contain content that encourages people to engage in criminal activities or condone criminal behavior.\n",
    "Can:\n",
    "- Contain content that helps people understand how crimes are committed, provided that the content is not so detailed that it could be used to provide a roadmap for future crimes.\n",
    "- Contain content that educates on crime prevention and understanding criminal behavior without providing guidance for criminal activities.\n",
    "\n",
    "O6: Weapons or Substance Abuse: \n",
    "Should not:\n",
    "- Contain content of illegal weapons with the intent to promote violence or harm.\n",
    "- Contain content of trafficking, consumption, or use of illegal drugs.\n",
    "- Promote the use of tobacco, alcohol, and cannabis.\n",
    "- Contain content about the creation or production of illegal substances.\n",
    "Can:\n",
    "- Contain weapons used in a legal and safe context without any indication of violence or intent to harm.\n",
    "- Discussions on firearm ownership and educational content on regulated substances without promoting illegal activities.\n",
    "- Contain content that provides factual information about legal drugs, including their effects and chemical composition, without promoting their use.\n",
    "- Contain content that offers educational insights into the manufacturing processes of substances, ensuring that such information is general and does not include detailed instructions that could facilitate their production.\n",
    "\n",
    "O7: Self-Harm: \n",
    "Should not:\n",
    "- Contain content that could encourage people to harm themselves.\n",
    "- Contain content that romanticizes or condones self-harm or suicide.\n",
    "Can:\n",
    "- Contain educational content that informs about the prevalence, causes, and effects of self-harm and suicide, such as statistical data and discussions on mental health challenges.\n",
    "- Contain resources and information that guide individuals toward professional help and support services for mental health, self-harm, and suicide prevention.\n",
    "\n",
    "O8: Animal Cruelty: \n",
    "Should not:\n",
    "- Contain content that could encourage people to harm animals.\n",
    "- Contain content that romanticizes or condones harming animals.\n",
    "- Contain explicit animal cruelty.\n",
    "Can:\n",
    "- Contain content that provides general information regarding animal cruelty.\n",
    "\n",
    "O9: Disasters or Emergencies: \n",
    "Should not:\n",
    "- Contain content about individuals who are deceased or have suffered harm as a result of disasters or emergencies.\n",
    "- Contain content about suffering, cruelty, or exploitation of individuals during such events.\n",
    "Can:\n",
    "- Contain respectful news coverage and reports on emergencies, prioritizing informational value over sensationalism.\n",
    "- Contain educational content that provides factual information on historical and current disasters or emergencies.\n",
    "\n",
    "Assessment Steps:\n",
    "1. Select a safety \"rating\". This should be \"Unsafe\" if the content violates the safety policy; otherwise, it should be \"Safe\".\n",
    "2. Assign a policy \"category\". If none of the policy categories are applicable, select \"NA: None applying\".\n",
    "3. Provide a \"rationale\". Describe the user content and justify why it is considered safe or unsafe, referring to the specific policy category and its associated guidelines to illustrate any violations or compliance.\n",
    "To provide your assessment use the following json template:\n",
    "{\n",
    "    \"rating\": str<\"Unsafe\"|\"Safe\">,\n",
    "    \"category\": str<\"O1: Hate, Humiliation, Harassment\"|\"O2: Violence, Harm, or Cruelty\"|\"O3: Sexual Content\"|\"O4: Nudity Content\"|\"O5: Criminal Planning\"|\"O6: Weapons or Substance Abuse\"|\"O7: Self-Harm\"|\"O8: Animal Cruelty\"|\"O9: Disasters or Emergencies\"|\"NA: None applying\">,\n",
    "    \"rationale\": str,\n",
    "}\n",
    "\"\"\""
   ]
  },
  {
   "cell_type": "code",
   "execution_count": null,
   "id": "7ab0eda7-6795-4991-9114-affec897e29c",
   "metadata": {},
   "outputs": [],
   "source": [
    "from transformers import AutoProcessor, LlavaOnevisionForConditionalGeneration\n",
    "from PIL import Image\n",
    "import torch"
   ]
  },
  {
   "cell_type": "code",
   "execution_count": null,
   "id": "4e254749-d91d-421a-8440-1fda4f3cfada",
   "metadata": {},
   "outputs": [],
   "source": [
    "teacher_model_path = \"AIML-TUDA/LlavaGuard-v1.2-0.5B-OV-hf\"\n",
    "student_model_path = \"llava-hf/llava-onevision-qwen2-0.5b-ov-hf\"\n",
    "\n",
    "# 本地模型位置\n",
    "# teacher_local_path = 'E:/Downloads/models/LlavaGuard-v1.2-0.5B-OV-hf'\n",
    "# student_local_path = 'E:/Downloads/models/llava-onevision-qwen2-0.5b-ov-hf'\n",
    "# processor = AutoProcessor.from_pretrained('E:/Downloads/models/LlavaGuard-v1.2-0.5B-OV-hf')\n",
    "teacher_model = LlavaOnevisionForConditionalGeneration.from_pretrained(teacher_model_path)\n",
    "student_model = LlavaOnevisionForConditionalGeneration.from_pretrained(student_model_path)\n",
    "processor = AutoProcessor.from_pretrained(teacher_model_path)\n",
    "\n",
    "# 指定教师模型和学生模型的模式\n",
    "teacher_model.eval()\n",
    "student_model.train()"
   ]
  },
  {
   "cell_type": "code",
   "execution_count": null,
   "id": "0eaa90ba-3244-4c05-9f08-34fcbf79e66e",
   "metadata": {},
   "outputs": [],
   "source": [
    "# Local path: 'E:/Downloads/tmp/3019.jpg'.\n",
    "# Load test image.\n",
    "image_path = ('toffee.jpg')\n",
    "image = Image.open(image_path)"
   ]
  },
  {
   "cell_type": "code",
   "execution_count": null,
   "id": "0e383163-269c-4fb1-990f-d6140dec3090",
   "metadata": {},
   "outputs": [],
   "source": [
    "conversation = [\n",
    "    {\n",
    "        \"role\": \"user\",\n",
    "        \"content\": [\n",
    "            {\"type\": \"image\"},\n",
    "            {\"type\": \"text\", \"text\": policy},\n",
    "            ],\n",
    "    },\n",
    "]\n",
    "\n",
    "text_prompt = processor.apply_chat_template(conversation, add_generation_prompt=False)\n",
    "inputs = processor(text=text_prompt, images=image, return_tensors=\"pt\")\n",
    "teacher_model.to('cuda')\n",
    "# Move inputs to cuda. Could be deleted later.\n",
    "inputs = {k: v.to('cuda') for k, v in inputs.items()}"
   ]
  },
  {
   "cell_type": "code",
   "execution_count": null,
   "id": "221760ad-5d06-4846-ab2e-5733cef2771a",
   "metadata": {},
   "outputs": [],
   "source": [
    "# 教师模型前向传播，得到logits.\n",
    "with torch.no_grad():\n",
    "    teacher_outputs = teacher_model(**inputs)\n",
    "    teacher_logits = teacher_outputs.logits\n",
    "\n",
    "# 删掉中间变量节省显存.\n",
    "teacher_model.to('cpu')\n",
    "del teacher_outputs\n",
    "torch.cuda.empty_cache()"
   ]
  },
  {
   "cell_type": "code",
   "execution_count": null,
   "id": "10785ebb-1174-4ef7-b655-6439da34d68e",
   "metadata": {},
   "outputs": [],
   "source": [
    "student_model.to('cuda')\n",
    "student_outputs = student_model(**inputs)\n",
    "student_logits = student_outputs.logits"
   ]
  },
  {
   "cell_type": "code",
   "execution_count": null,
   "id": "8bc05f6b-a999-4479-bac0-46fbaa55590c",
   "metadata": {},
   "outputs": [],
   "source": [
    "del student_outputs, inputs\n",
    "torch.cuda.empty_cache()"
   ]
  },
  {
   "cell_type": "code",
   "execution_count": null,
   "id": "1c5adc77-ebcb-4060-880a-b5bf08b82649",
   "metadata": {},
   "outputs": [],
   "source": [
    "# 一次推理一个样本，反向传播测试。\n",
    "import torch.nn.functional as F\n",
    "\n",
    "T = 2.0\n",
    "teacher_probs = (teacher_logits / T).softmax(dim=-1)\n",
    "student_probs = (student_logits / T).log_softmax(dim=-1)\n",
    "\n",
    "del teacher_logits, student_logits\n",
    "torch.cuda.empty_cache()\n",
    "\n",
    "loss = F.kl_div(teacher_probs, student_probs, reduction='batchmean') * (T * T)\n",
    "\n",
    "del student_probs, teacher_probs\n",
    "torch.cuda.empty_cache()"
   ]
  },
  {
   "cell_type": "code",
   "execution_count": null,
   "id": "a495dbdb-7ec3-4516-b9e3-4fe3f94860b8",
   "metadata": {},
   "outputs": [],
   "source": [
    "optimizer = torch.optim.AdamW(student_model.parameters(), lr=1e-5)\n",
    "optimizer.zero_grad()\n",
    "loss.backward()\n",
    "optimizer.step()"
   ]
  },
  {
   "cell_type": "code",
   "execution_count": null,
   "id": "bbbe4a94-2427-49b4-abce-d6e7a0eb4fc6",
   "metadata": {},
   "outputs": [],
   "source": [
    "# 清除中间变量\n",
    "del loss\n",
    "torch.cuda.empty_cache()"
   ]
  },
  {
   "cell_type": "code",
   "execution_count": null,
   "id": "4de63e23-6db2-486e-8234-4ba9feba9bac",
   "metadata": {
    "editable": true,
    "slideshow": {
     "slide_type": ""
    },
    "tags": []
   },
   "outputs": [],
   "source": [
    "# student_model.to('cpu')"
   ]
  },
  {
   "cell_type": "code",
   "execution_count": null,
   "id": "94304474-9fca-49cd-9650-6b8015d08c6f",
   "metadata": {},
   "outputs": [],
   "source": []
  }
 ],
 "metadata": {
  "kernelspec": {
   "display_name": "Python 3 (ipykernel)",
   "language": "python",
   "name": "python3"
  },
  "language_info": {
   "codemirror_mode": {
    "name": "ipython",
    "version": 3
   },
   "file_extension": ".py",
   "mimetype": "text/x-python",
   "name": "python",
   "nbconvert_exporter": "python",
   "pygments_lexer": "ipython3",
   "version": "3.12.3"
  }
 },
 "nbformat": 4,
 "nbformat_minor": 5
}
